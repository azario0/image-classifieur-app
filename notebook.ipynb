{
 "cells": [
  {
   "cell_type": "code",
   "execution_count": null,
   "metadata": {},
   "outputs": [
    {
     "name": "stdout",
     "output_type": "stream",
     "text": [
      "rapeseed: 67.58%\n",
      "stone wall: 3.52%\n",
      "maze: 3.52%\n",
      "barn: 3.12%\n",
      "lakeside: 2.73%\n"
     ]
    },
    {
     "name": "stderr",
     "output_type": "stream",
     "text": [
      "I0000 00:00:1720781767.708324   11291 gl_context_egl.cc:85] Successfully initialized EGL. Major : 1 Minor: 5\n",
      "I0000 00:00:1720781767.740386   12212 gl_context.cc:357] GL version: 3.2 (OpenGL ES 3.2 Mesa 23.2.1-1ubuntu3.1~22.04.2), renderer: Mesa Intel(R) HD Graphics 630 (KBL GT2)\n",
      "W0000 00:00:1720781767.778492   12214 inference_feedback_manager.cc:114] Feedback manager requires a model with a single signature inference. Disabling support for feedback tensors.\n"
     ]
    }
   ],
   "source": [
    "import mediapipe as mp\n",
    "import cv2\n",
    "# Initialize MediaPipe\n",
    "BaseOptions = mp.tasks.BaseOptions\n",
    "ImageClassifier = mp.tasks.vision.ImageClassifier\n",
    "ImageClassifierOptions = mp.tasks.vision.ImageClassifierOptions\n",
    "VisionRunningMode = mp.tasks.vision.RunningMode\n",
    "\n",
    "# Load the model\n",
    "model_path = 'efficientnet_lite0.tflite'  # You'll need to download this model\n",
    "\n",
    "options = ImageClassifierOptions(\n",
    "    base_options=BaseOptions(model_asset_path=model_path),\n",
    "    max_results=5,\n",
    "    running_mode=VisionRunningMode.IMAGE\n",
    ")\n",
    "\n",
    "classifier = ImageClassifier.create_from_options(options)\n",
    "\n",
    "def classify_image(image_path):\n",
    "    # Read the image\n",
    "    image = cv2.imread(image_path)\n",
    "    image = cv2.cvtColor(image, cv2.COLOR_BGR2RGB)\n",
    "    \n",
    "    # Create a MediaPipe Image object\n",
    "    mp_image = mp.Image(image_format=mp.ImageFormat.SRGB, data=image)\n",
    "    \n",
    "    # Perform classification\n",
    "    classification_result = classifier.classify(mp_image)\n",
    "    \n",
    "    # Process and return results\n",
    "    results = []\n",
    "    for category in classification_result.classifications[0].categories:\n",
    "        results.append((category.category_name, category.score))\n",
    "    \n",
    "    return sorted(results, key=lambda x: x[1], reverse=True)\n",
    "\n",
    "# Example usage\n",
    "image_path = 'Gemini_Generated_Image_l4n6isl4n6isl4n6.jpeg'  # Replace with your image path\n",
    "results = classify_image(image_path)\n",
    "\n",
    "for label, score in results:\n",
    "    print(f\"{label}: {score*100:.2f}%\")"
   ]
  }
 ],
 "metadata": {
  "kernelspec": {
   "display_name": "Python 3",
   "language": "python",
   "name": "python3"
  },
  "language_info": {
   "codemirror_mode": {
    "name": "ipython",
    "version": 3
   },
   "file_extension": ".py",
   "mimetype": "text/x-python",
   "name": "python",
   "nbconvert_exporter": "python",
   "pygments_lexer": "ipython3",
   "version": "3.10.12"
  }
 },
 "nbformat": 4,
 "nbformat_minor": 2
}
